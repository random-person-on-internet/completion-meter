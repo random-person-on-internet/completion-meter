{
 "cells": [
  {
   "cell_type": "code",
   "execution_count": null,
   "id": "6a0b3737-f488-45a1-bb53-7fe4be0a04a0",
   "metadata": {},
   "outputs": [],
   "source": [
    "import os\n",
    "import json\n",
    "import math\n",
    "\n",
    "CHUNK_SIZE = 80 # we can change this later\n",
    "INPUT_DIR = \"../data\"\n",
    "OUTPUT_DIR = \"../chunked_data\"\n",
    "os.makedirs(OUTPUT_DIR, exist_ok=True)\n",
    "\n",
    "def chunk_text(text, chunk_size):\n",
    "    words = text.split()\n",
    "    chunks = []\n",
    "    for i in range(0, len(words), chunk_size):\n",
    "        chunk = \" \".join(words[i:i+chunk_size])\n",
    "        chunks.append(chunk)\n",
    "    return chunks\n",
    "\n",
    "for filename in os.listdir(INPUT_DIR):\n",
    "    if not filename.endswith(\".txt\"):\n",
    "        continue\n",
    "\n",
    "    speech_id = filename.replace(\".txt\", \"\")\n",
    "    with open(os.path.join(INPUT_DIR, filename), \"r\", encoding=\"utf-8\") as f:\n",
    "        full_text = f.read()\n",
    "\n",
    "    chunks = chunk_text(full_text, CHUNK_SIZE)\n",
    "    total_chunks = len(chunks)\n",
    "\n",
    "    chunk_data = []\n",
    "    for i, chunk in enumerate(chunks):\n",
    "        entry = {\n",
    "            \"speech_id\" : speech_id,\n",
    "            \"chunk_id\" : i,\n",
    "            \"text\" : chunk,\n",
    "            \"position\" : round(i / (total_chunks-1), 4) if total_chunks>1 else 0.0\n",
    "        }\n",
    "        chunk_data.append(entry)\n",
    "\n",
    "    with open(os.path.join(OUTPUT_DIR, f\"{speech_id}_chunks.json\"), \"w\", encoding=\"utf-8\") as f:\n",
    "        json.dump(chunk_data, f, indent=2)\n",
    "\n",
    "    print(f\"Saved {total_chunks} chunks for {speech_id}\")"
   ]
  }
 ],
 "metadata": {
  "kernelspec": {
   "display_name": "Python (myenv)",
   "language": "python",
   "name": "myenv"
  },
  "language_info": {
   "codemirror_mode": {
    "name": "ipython",
    "version": 3
   },
   "file_extension": ".py",
   "mimetype": "text/x-python",
   "name": "python",
   "nbconvert_exporter": "python",
   "pygments_lexer": "ipython3",
   "version": "3.11.4"
  }
 },
 "nbformat": 4,
 "nbformat_minor": 5
}
